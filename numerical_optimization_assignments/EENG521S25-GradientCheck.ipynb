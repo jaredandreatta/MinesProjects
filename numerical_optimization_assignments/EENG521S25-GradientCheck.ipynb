{
 "cells": [
  {
   "cell_type": "markdown",
   "metadata": {
    "id": "MQu-IxI-YiCP"
   },
   "source": [
    "# Programmer's Note: Gradient Check\n",
    "\n",
    "This notebook serves to provide a derivative check. The core idea is to check, for a given $f(x) \\in C^2$, whether a gradient $\\nabla f(x)$ is correct.\n",
    "\n",
    "To do this, we compare the $0^\\text{th}$ order Taylor expansion:\n",
    "\n",
    "\\begin{align}\n",
    "  f(x + h v) &= \\underbrace{f(x)}_{T_0(x)} + O(h)\n",
    "\\end{align}\n",
    "\n",
    "and the $1^\\text{st}$ order Taylor expansion:\n",
    "\n",
    "\\begin{align}\n",
    "  f(x + h v) &= \\underbrace{f(x) + h\\nabla f(x)^\\top v}_{T_1(x)} + O(h^2)\n",
    "\\end{align}\n",
    "\n",
    "Picking a random direction $v$, as $h \\to 0$, we should see: $\\| f(x + hv) - T_0(x) \\|_2 \\rightarrow 0$ at a rate of $O(h)$.\n",
    "\n",
    "And if the expression for $\\nabla f(x)$ is correct, we should see $\\| f(x + hv) - T_1(x) \\|_2 \\rightarrow 0$ at a rate of $O(h^2)$.\n"
   ]
  },
  {
   "cell_type": "code",
   "execution_count": null,
   "metadata": {
    "executionInfo": {
     "elapsed": 279,
     "status": "ok",
     "timestamp": 1738511896772,
     "user": {
      "displayName": "Mike Wakin",
      "userId": "06547064001976983031"
     },
     "user_tz": 420
    },
    "id": "0nwcXgWzYLkb"
   },
   "outputs": [],
   "source": [
    "from sympy import symbols, Matrix, vector, exp, diff, solve\n",
    "from sympy.vector import gradient\n",
    "import numpy as np\n",
    "from numpy.linalg import norm\n",
    "from numpy import gradient "
   ]
  },
  {
   "cell_type": "markdown",
   "metadata": {
    "id": "uuy_2h8td6dS"
   },
   "source": [
    "# Define Functions (this is the only part of the code you need to modify)\n",
    "\n",
    "To get you started, this code uses an example objective function $f(x) = \\|x\\|_2^2 = x^T x$, whose gradient is simply $\\nabla f(x) = 2x$. See what happens (in the plots further down in this notebook) when you use the correct gradient and various incorrect gradients.\n",
    "\n",
    "In the future, you can re-use this code by plugging in whaveter objective function $f(x)$ you are interested in, and confirming that your gradient calculation for $\\nabla f(x)$ is correct."
   ]
  },
  {
   "cell_type": "code",
   "execution_count": null,
   "metadata": {
    "executionInfo": {
     "elapsed": 7,
     "status": "ok",
     "timestamp": 1738511896920,
     "user": {
      "displayName": "Mike Wakin",
      "userId": "06547064001976983031"
     },
     "user_tz": 420
    },
    "id": "heS58-eAYhKF"
   },
   "outputs": [],
   "source": [
    "def f(x):\n",
    "  # Put your function here\n",
    "  return np.matmul(x.transpose(), x)\n",
    "\n",
    "\n",
    "\n",
    "def grad_f(x):\n",
    "  # Put your (suspected) gradient here\n",
    "  return 2*x # this is the correct gradient\n",
    "  # return 1.99*x # this is an incorrect gradient; try it!\n",
    "  # return x**2 # this is an incorrect gradient; try it!"
   ]
  },
  {
   "cell_type": "markdown",
   "metadata": {
    "id": "WTEyQ244d79U"
   },
   "source": [
    "# Run Check Derivative"
   ]
  },
  {
   "cell_type": "code",
   "execution_count": 41,
   "metadata": {
    "colab": {
     "base_uri": "https://localhost:8080/"
    },
    "executionInfo": {
     "elapsed": 6,
     "status": "ok",
     "timestamp": 1738511896920,
     "user": {
      "displayName": "Mike Wakin",
      "userId": "06547064001976983031"
     },
     "user_tz": 420
    },
    "id": "eEyvQl1qdibe",
    "outputId": "77c0365f-71e3-4d05-b7cb-7d58de48685f"
   },
   "outputs": [
    {
     "name": "stdout",
     "output_type": "stream",
     "text": [
      "h: 1.000e+00, \t err0: 7.170e+00, \t err1: 6.827e+00\n",
      "h: 5.000e-01, \t err0: 1.878e+00, \t err1: 1.707e+00\n",
      "h: 2.500e-01, \t err0: 5.126e-01, \t err1: 4.267e-01\n",
      "h: 1.250e-01, \t err0: 1.496e-01, \t err1: 1.067e-01\n",
      "h: 6.250e-02, \t err0: 4.814e-02, \t err1: 2.667e-02\n",
      "h: 3.125e-02, \t err0: 1.740e-02, \t err1: 6.667e-03\n",
      "h: 1.562e-02, \t err0: 7.034e-03, \t err1: 1.667e-03\n",
      "h: 7.812e-03, \t err0: 3.100e-03, \t err1: 4.167e-04\n",
      "h: 3.906e-03, \t err0: 1.446e-03, \t err1: 1.042e-04\n",
      "h: 1.953e-03, \t err0: 6.969e-04, \t err1: 2.604e-05\n",
      "h: 9.766e-04, \t err0: 3.420e-04, \t err1: 6.511e-06\n",
      "h: 4.883e-04, \t err0: 1.694e-04, \t err1: 1.628e-06\n",
      "h: 2.441e-04, \t err0: 8.427e-05, \t err1: 4.069e-07\n",
      "h: 1.221e-04, \t err0: 4.203e-05, \t err1: 1.017e-07\n",
      "h: 6.104e-05, \t err0: 2.099e-05, \t err1: 2.543e-08\n",
      "h: 3.052e-05, \t err0: 1.049e-05, \t err1: 6.358e-09\n",
      "h: 1.526e-05, \t err0: 5.243e-06, \t err1: 1.589e-09\n",
      "h: 7.629e-06, \t err0: 2.621e-06, \t err1: 3.974e-10\n",
      "h: 3.815e-06, \t err0: 1.310e-06, \t err1: 9.934e-11\n",
      "h: 1.907e-06, \t err0: 6.552e-07, \t err1: 2.484e-11\n",
      "h: 9.537e-07, \t err0: 3.276e-07, \t err1: 6.209e-12\n",
      "h: 4.768e-07, \t err0: 1.638e-07, \t err1: 1.552e-12\n",
      "h: 2.384e-07, \t err0: 8.190e-08, \t err1: 3.881e-13\n",
      "h: 1.192e-07, \t err0: 4.095e-08, \t err1: 9.703e-14\n",
      "h: 5.960e-08, \t err0: 2.047e-08, \t err1: 2.420e-14\n",
      "h: 2.980e-08, \t err0: 1.024e-08, \t err1: 5.995e-15\n",
      "h: 1.490e-08, \t err0: 5.119e-09, \t err1: 1.332e-15\n",
      "h: 7.451e-09, \t err0: 2.559e-09, \t err1: 2.220e-16\n",
      "h: 3.725e-09, \t err0: 1.280e-09, \t err1: 0.000e+00\n",
      "h: 1.863e-09, \t err0: 6.398e-10, \t err1: 0.000e+00\n",
      "h: 9.313e-10, \t err0: 3.199e-10, \t err1: 0.000e+00\n",
      "h: 4.657e-10, \t err0: 1.600e-10, \t err1: 0.000e+00\n"
     ]
    }
   ],
   "source": [
    "dim = 5\n",
    "x = np.random.randn(dim)\n",
    "v = np.random.randn(dim)\n",
    "\n",
    "max_iters = 32\n",
    "h = np.zeros(max_iters)\n",
    "err0 = np.zeros(max_iters)\n",
    "err1 = np.zeros(max_iters)\n",
    "\n",
    "for i in range(max_iters):\n",
    "  h[i] = 2**(-i) # halve our stepsize every time\n",
    "\n",
    "  fv = f(x + h[i]*v)\n",
    "  T0 = f(x)\n",
    "\n",
    "  T1 = T0 + h[i]*np.matmul(grad_f(x).transpose(), v)\n",
    "\n",
    "  err0[i] = np.linalg.norm(fv - T0) # this error should be linear in h\n",
    "  err1[i] = np.linalg.norm(fv - T1) # this error should be quadratic in h\n",
    "\n",
    "  print('h: %.3e, \\t err0: %.3e, \\t err1: %.3e' % (h[i], err0[i], err1[i]))"
   ]
  },
  {
   "cell_type": "markdown",
   "metadata": {
    "id": "dDFT7RfMgHbi"
   },
   "source": [
    "# Let's now plot our errors.\n",
    "\n",
    "We wil use a log-log plot so that both axes are in log-scale.\n",
    "\n",
    "On a log-log plot, we expect the slope of $\\|f(x) - T_0(x)\\|_2$ to be $1$. And if the gradient is correct, we expect the slope of $\\|f(x) - T_1(x)\\|_2$ to be $2$. If you don't see that the slope of the orange curve is $2$ as $h \\to 0$, your gradient is incorrect!"
   ]
  },
  {
   "cell_type": "code",
   "execution_count": 42,
   "metadata": {
    "colab": {
     "base_uri": "https://localhost:8080/",
     "height": 728
    },
    "executionInfo": {
     "elapsed": 2226,
     "status": "ok",
     "timestamp": 1738511899142,
     "user": {
      "displayName": "Mike Wakin",
      "userId": "06547064001976983031"
     },
     "user_tz": 420
    },
    "id": "2RL4GLx4dj7V",
    "outputId": "4b4cc71b-9609-449f-9471-d3408e99adb1"
   },
   "outputs": [
    {
     "data": {
      "text/plain": [
       "(array([1.e-19, 1.e-17, 1.e-15, 1.e-13, 1.e-11, 1.e-09, 1.e-07, 1.e-05,\n",
       "        1.e-03, 1.e-01, 1.e+01, 1.e+03, 1.e+05]),\n",
       " [Text(0, 1e-19, '$\\\\mathdefault{10^{-19}}$'),\n",
       "  Text(0, 1e-17, '$\\\\mathdefault{10^{-17}}$'),\n",
       "  Text(0, 1e-15, '$\\\\mathdefault{10^{-15}}$'),\n",
       "  Text(0, 1e-13, '$\\\\mathdefault{10^{-13}}$'),\n",
       "  Text(0, 1e-11, '$\\\\mathdefault{10^{-11}}$'),\n",
       "  Text(0, 1e-09, '$\\\\mathdefault{10^{-9}}$'),\n",
       "  Text(0, 1e-07, '$\\\\mathdefault{10^{-7}}$'),\n",
       "  Text(0, 1e-05, '$\\\\mathdefault{10^{-5}}$'),\n",
       "  Text(0, 0.001, '$\\\\mathdefault{10^{-3}}$'),\n",
       "  Text(0, 0.1, '$\\\\mathdefault{10^{-1}}$'),\n",
       "  Text(0, 10.0, '$\\\\mathdefault{10^{1}}$'),\n",
       "  Text(0, 1000.0, '$\\\\mathdefault{10^{3}}$'),\n",
       "  Text(0, 100000.0, '$\\\\mathdefault{10^{5}}$')])"
      ]
     },
     "execution_count": 42,
     "metadata": {},
     "output_type": "execute_result"
    },
    {
     "data": {
      "image/png": "[encoded data removed]",
      "text/plain": [
       "<Figure size 640x480 with 1 Axes>"
      ]
     },
     "metadata": {},
     "output_type": "display_data"
    }
   ],
   "source": [
    "import matplotlib.pyplot as plt\n",
    "\n",
    "plt.loglog(h, err0, linewidth=3)\n",
    "plt.loglog(h, err1, linewidth=3)\n",
    "plt.legend(['$\\|f(x) - T_0(x)\\|_2$', '$\\|f(x)-T_1(x)\\|_2$'], fontsize=15)\n",
    "plt.xlabel(\"$h$\")\n",
    "plt.xticks(fontsize=15)\n",
    "plt.yticks(fontsize=15)"
   ]
  }
 ],
 "metadata": {
  "colab": {
   "provenance": []
  },
  "kernelspec": {
   "display_name": "base",
   "language": "python",
   "name": "python3"
  },
  "language_info": {
   "codemirror_mode": {
    "name": "ipython",
    "version": 3
   },
   "file_extension": ".py",
   "mimetype": "text/x-python",
   "name": "python",
   "nbconvert_exporter": "python",
   "pygments_lexer": "ipython3",
   "version": "3.11.7"
  }
 },
 "nbformat": 4,
 "nbformat_minor": 0
}
