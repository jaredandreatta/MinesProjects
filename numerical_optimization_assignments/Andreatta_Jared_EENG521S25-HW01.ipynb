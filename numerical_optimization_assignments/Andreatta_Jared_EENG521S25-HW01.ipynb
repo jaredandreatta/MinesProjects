{
  "cells": [
    {
      "attachments": {},
      "cell_type": "markdown",
      "metadata": {
        "colab_type": "text",
        "id": "FDn7OqT2y3Jl"
      },
      "source": [
        "In the next code cell, you will define a function that computes the least-squares cost function $f(x) = \\frac{1}{2}\\|y-Ax\\|_2^2$ for a given data vector $y \\in \\mathbb{R}^m$ and  data matrix $A \\in \\mathbb{R}^{m\\times n}$. The inputs of your function is the variable $x \\in \\mathbb{R}^n$ at which you evaluate your function, as well as the data vector $y$ and the data matrix $A$. The outputs are the function value $f(x)$, the gradient $\\nabla f(x)$, and the Hessian matrix $\\nabla^2 f(x)$. Don't change any codes other than the lines you are asked to modify."
      ]
    },
    {
      "cell_type": "code",
      "execution_count": 2,
      "metadata": {
        "colab": {
          "base_uri": "https://localhost:8080/",
          "height": 204
        },
        "colab_type": "code",
        "id": "73w1daTFzbuc",
        "outputId": "92de1c0b-94e4-4f33-e387-c0c0a9f8020e"
      },
      "outputs": [
        {
          "name": "stdout",
          "output_type": "stream",
          "text": [
            "40.38010572290488\n",
            "[[ -4.46380545   2.10411123   4.1645812    5.05309165 -13.17129968\n",
            "   -0.99682455   5.40733788  10.97131722  -6.63635438   6.4690013\n",
            "   -2.91243521  -8.36910575   4.30618005 -12.1880796   -3.24774252\n",
            "   -7.38616538   1.97411844   4.50912424  -0.87240376  13.15212374\n",
            "   12.71946772  -3.63107112  17.24336092  -2.70990601  -7.10874191\n",
            "  -19.68489866  13.93529827 -13.92874676  -2.04410704  -7.02598301\n",
            "   -2.25109622   6.41963941   8.7591411   -3.70952537   7.99377134\n",
            "   -7.43362168  -5.62266507  -6.41648578   4.01268187  -3.46271957\n",
            "   -3.21531642   8.42792278  -5.13040379  -6.82060482 -20.80106932\n",
            "   -9.78603807   6.56356283  -5.69682013   7.12212119   3.00605173]\n",
            " [  1.24253545 -14.19186213   4.18535892   9.10197757   2.02897678\n",
            "   10.34359777 -16.64581009  -1.8769879   -1.54002994   4.13960795\n",
            "    3.46060681   7.54176971   1.66845568   0.64713109 -13.82182483\n",
            "   -0.78226315  -3.20925231  -8.22641541  -8.70489146  -2.66113478\n",
            "    3.78020009 -16.9505275    0.23827141   0.31194317   8.17236363\n",
            "    8.90162163  -0.61615273   7.03883772 -11.74685867  11.11606604\n",
            "   -3.11341522 -16.7670971   -7.07326845  -7.38758218   7.33141662\n",
            "   -0.11684369   7.70299085  -4.25282967  -7.6961721    7.94293382\n",
            "   -5.03958466  -4.62845123 -10.20495201   6.94512404  16.78049336\n",
            "   -0.57766323  -1.9452416   18.19928517   1.03109837   4.26817609]\n",
            " [ -5.82056221  -6.89668154  -2.17443473  -2.82403662  -0.60685359\n",
            "   -3.37627356   0.12129508  17.61090585   1.03929278  -9.50000705\n",
            "    6.08327364   2.77878913   9.94226571  -9.01841752   0.32195674\n",
            "    2.68707995 -13.28134392  -2.95437725   6.30911845  -2.3460172\n",
            "    3.07986176  -1.56887294  -0.54126893  10.50252215 -12.6064475\n",
            "    5.08912999   9.54657136   2.8942601   14.44591901  11.8665059\n",
            "    6.11115677  -4.2581794  -10.41191444 -17.04584982   0.69288751\n",
            "  -13.06242896   9.62375592   0.6544893   -1.92398951  -1.38147657\n",
            "   -9.73302253  -4.61722404  -8.57329763   2.12821032  -6.16719286\n",
            "    9.68533509  -0.40953902  -1.67560312  -4.53815329   5.87125326]\n",
            " [-13.6869645    4.21901069  17.19401538   8.16011139  12.8037397\n",
            "    5.39774082   9.50529753  11.93596778   2.70591911  -3.08798367\n",
            "   -5.49693206  -2.97695466  10.74991244  -3.24990309 -14.06093392\n",
            "   -0.82462368   4.65752267   4.76077936   2.9445911   -0.04595294\n",
            "    7.2097999   -2.31451999 -22.1363404  -10.27016983  12.59797084\n",
            "   -0.89553379  -4.2560182   -7.31080958  -1.65924329  -4.69051585\n",
            "   -2.08718699  10.70584966   7.37519997   2.20522166  -3.06581972\n",
            "    2.37838324  -4.33581968   7.60985447  11.19504149  -0.52310246\n",
            "   -9.47016975  -4.62856284  -5.85383727   4.36180133  14.49294298\n",
            "    6.42819734   5.85571634   5.9472556   -7.78025497 -15.86555208]\n",
            " [  2.10425877  -4.87580727  15.50126482  12.69190524   4.8921871\n",
            "    2.62135504  -7.39193848  -1.76912668  13.28698706  15.8438575\n",
            "   -9.26525097  -8.7669007   -7.30190025   5.7974774   23.54278091\n",
            "   17.86162304   7.26566403  -4.61256429   3.523746     2.10815681\n",
            "    1.44942123   0.66902077   1.72868423  -6.75737293  -5.27389018\n",
            "    4.52456882   8.26256084  11.06136963  -2.33548053  -2.66890282\n",
            "   -2.63374518  -5.90022966  -8.65754195   6.77357708  -2.4865285\n",
            "  -24.44525867   2.00818598  13.6134299   -1.55631958  10.27149522\n",
            "   12.38065797 -34.62322088   2.8332202   -0.73577575   4.24109525\n",
            "   -6.10731971 -19.2669149   -7.66053583  10.78666596  -3.6394364 ]]\n",
            "[[ 43.58669391 -13.19266195   1.68633529  -3.08078682  -8.61693048]\n",
            " [-13.19266195  41.88555231   4.41469189   1.41527374   2.96584335]\n",
            " [  1.68633529   4.41469189  35.09916816  -4.0178838   -2.24011225]\n",
            " [ -3.08078682   1.41527374  -4.0178838   43.69295501  -5.01478078]\n",
            " [ -8.61693048   2.96584335  -2.24011225  -5.01478078  68.11877429]]\n"
          ]
        }
      ],
      "source": [
        "import numpy as np\n",
        "\n",
        "def least_squares(x,y,A):\n",
        "  fval = (1/2) * np.linalg.norm(y-A @ x)**2 #Modify this line so that fval holds the least-squares function value\n",
        "  grad = -A.T @ (y- A @ x) #Modify this line so that grad holds the gradient vector\n",
        "  Hessian = A.T @ A #Modify this line so that Hessian holds the Hessian matrix\n",
        "  return fval, grad, Hessian\n",
        "\n",
        "# The following codes test your function. I will use different m, n, and random seed to test when grading. So you functions should work for any \n",
        "# dimensions of x, y, and A\n",
        "np.random.seed(42) \n",
        "n = 5\n",
        "m = 50\n",
        "A = np.random.randn(m,n)\n",
        "y = np.random.randn(m,1)\n",
        "x = np.random.randn(n,1)\n",
        "\n",
        "# Compute function value, gradient, and Hessian by invoking the function least_squares\n",
        "f, g, H = least_squares(x,y,A)\n",
        "\n",
        "print(f)\n",
        "print(g)\n",
        "print(H)"
      ]
    },
    {
      "cell_type": "code",
      "execution_count": 10,
      "metadata": {
        "colab": {},
        "colab_type": "code",
        "id": "piSs2wr801B7"
      },
      "outputs": [
        {
          "name": "stdout",
          "output_type": "stream",
          "text": [
            "[0.65110578 1.60406814 5.74482608]\n"
          ]
        }
      ],
      "source": [
        "# This cell is for problem 2 because I didn't want to compute if Q is PSD by hand\n",
        "\n",
        "Q=[[2,2,1],[2,4,1],[1,1,2]]\n",
        "Q_eigen=np.linalg.eigvalsh(Q)\n",
        "print(Q_eigen)"
      ]
    }
  ],
  "metadata": {
    "colab": {
      "collapsed_sections": [],
      "name": "Homework01-Problem07.ipynb",
      "provenance": [],
      "version": "0.3.2"
    },
    "kernelspec": {
      "display_name": "Python 3",
      "name": "python3"
    },
    "language_info": {
      "codemirror_mode": {
        "name": "ipython",
        "version": 3
      },
      "file_extension": ".py",
      "mimetype": "text/x-python",
      "name": "python",
      "nbconvert_exporter": "python",
      "pygments_lexer": "ipython3",
      "version": "3.8.8"
    }
  },
  "nbformat": 4,
  "nbformat_minor": 0
}
