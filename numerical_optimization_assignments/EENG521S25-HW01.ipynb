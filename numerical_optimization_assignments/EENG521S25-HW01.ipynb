{
  "cells": [
    {
      "attachments": {},
      "cell_type": "markdown",
      "metadata": {
        "colab_type": "text",
        "id": "FDn7OqT2y3Jl"
      },
      "source": [
        "In the next code cell, you will define a function that computes the least-squares cost function $f(x) = \\frac{1}{2}\\|y-Ax\\|_2^2$ for a given data vector $y \\in \\mathbb{R}^m$ and  data matrix $A \\in \\mathbb{R}^{m\\times n}$. The inputs of your function is the variable $x \\in \\mathbb{R}^n$ at which you evaluate your function, as well as the data vector $y$ and the data matrix $A$. The outputs are the function value $f(x)$, the gradient $\\nabla f(x)$, and the Hessian matrix $\\nabla^2 f(x)$. Don't change any codes other than the lines you are asked to modify."
      ]
    },
    {
      "cell_type": "code",
      "execution_count": 8,
      "metadata": {
        "colab": {
          "base_uri": "https://localhost:8080/",
          "height": 204
        },
        "colab_type": "code",
        "id": "73w1daTFzbuc",
        "outputId": "92de1c0b-94e4-4f33-e387-c0c0a9f8020e"
      },
      "outputs": [
        {
          "name": "stdout",
          "output_type": "stream",
          "text": [
            "40.38010572290488\n",
            "[[-10.44493057]\n",
            " [ -6.15842964]\n",
            " [ 16.79417156]\n",
            " [ 27.83357878]\n",
            " [  8.66161788]]\n",
            "[[ 43.58669391 -13.19266195   1.68633529  -3.08078682  -8.61693048]\n",
            " [-13.19266195  41.88555231   4.41469189   1.41527374   2.96584335]\n",
            " [  1.68633529   4.41469189  35.09916816  -4.0178838   -2.24011225]\n",
            " [ -3.08078682   1.41527374  -4.0178838   43.69295501  -5.01478078]\n",
            " [ -8.61693048   2.96584335  -2.24011225  -5.01478078  68.11877429]]\n"
          ]
        }
      ],
      "source": [
        "import numpy as np\n",
        "\n",
        "def least_squares(x,y,A):\n",
        "  fval = (1/2) * np.linalg.norm(y-A @ x)**2 #Modify this line so that fval holds the least-squares function value\n",
        "  grad = -A.T @ (y- A @ x) #Modify this line so that grad holds the gradient vector\n",
        "  Hessian = A.T @ A #Modify this line so that Hessian holds the Hessian matrix\n",
        "  return fval, grad, Hessian\n",
        "\n",
        "# The following codes test your function. I will use different m, n, and random seed to test when grading. So you functions should work for any \n",
        "# dimensions of x, y, and A\n",
        "np.random.seed(42) \n",
        "n = 5\n",
        "m = 50\n",
        "A = np.random.randn(m,n)\n",
        "y = np.random.randn(m,1)\n",
        "x = np.random.randn(n,1)\n",
        "\n",
        "# Compute function value, gradient, and Hessian by invoking the function least_squares\n",
        "f, g, H = least_squares(x,y,A)\n",
        "\n",
        "print(f)\n",
        "print(g)\n",
        "print(H)"
      ]
    },
    {
      "cell_type": "code",
      "execution_count": 10,
      "metadata": {
        "colab": {},
        "colab_type": "code",
        "id": "piSs2wr801B7"
      },
      "outputs": [
        {
          "name": "stdout",
          "output_type": "stream",
          "text": [
            "[0.65110578 1.60406814 5.74482608]\n"
          ]
        }
      ],
      "source": [
        "# This cell is for problem 2 because I didn't want to compute if Q is PSD by hand\n",
        "\n",
        "Q=[[2,2,1],[2,4,1],[1,1,2]]\n",
        "Q_eigen=np.linalg.eigvalsh(Q)\n",
        "print(Q_eigen)"
      ]
    }
  ],
  "metadata": {
    "colab": {
      "collapsed_sections": [],
      "name": "Homework01-Problem07.ipynb",
      "provenance": [],
      "version": "0.3.2"
    },
    "kernelspec": {
      "display_name": "Python 3",
      "name": "python3"
    },
    "language_info": {
      "codemirror_mode": {
        "name": "ipython",
        "version": 3
      },
      "file_extension": ".py",
      "mimetype": "text/x-python",
      "name": "python",
      "nbconvert_exporter": "python",
      "pygments_lexer": "ipython3",
      "version": "3.8.8"
    }
  },
  "nbformat": 4,
  "nbformat_minor": 0
}
